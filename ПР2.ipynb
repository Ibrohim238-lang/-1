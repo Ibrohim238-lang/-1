{
  "nbformat": 4,
  "nbformat_minor": 0,
  "metadata": {
    "colab": {
      "name": "ПР2",
      "provenance": [],
      "collapsed_sections": []
    },
    "kernelspec": {
      "name": "python3",
      "display_name": "Python 3"
    },
    "widgets": {
      "application/vnd.jupyter.widget-state+json": {
        "8d2a4f68fe47401eb4d58c155573c3ad": {
          "model_module": "@jupyter-widgets/controls",
          "model_name": "ButtonModel",
          "state": {
            "_view_name": "ButtonView",
            "style": "IPY_MODEL_75d0376393e440d0a6f416d313b4e709",
            "_dom_classes": [],
            "description": "Click Me!",
            "_model_name": "ButtonModel",
            "button_style": "",
            "_view_module": "@jupyter-widgets/controls",
            "_model_module_version": "1.5.0",
            "tooltip": "",
            "_view_count": null,
            "disabled": false,
            "_view_module_version": "1.5.0",
            "layout": "IPY_MODEL_f88f6e2b8a90423cac372ea1c5d297ca",
            "_model_module": "@jupyter-widgets/controls",
            "icon": ""
          }
        },
        "75d0376393e440d0a6f416d313b4e709": {
          "model_module": "@jupyter-widgets/controls",
          "model_name": "ButtonStyleModel",
          "state": {
            "_view_name": "StyleView",
            "_model_name": "ButtonStyleModel",
            "_view_module": "@jupyter-widgets/base",
            "_model_module_version": "1.5.0",
            "_view_count": null,
            "button_color": null,
            "font_weight": "",
            "_view_module_version": "1.2.0",
            "_model_module": "@jupyter-widgets/controls"
          }
        },
        "f88f6e2b8a90423cac372ea1c5d297ca": {
          "model_module": "@jupyter-widgets/base",
          "model_name": "LayoutModel",
          "state": {
            "_view_name": "LayoutView",
            "grid_template_rows": null,
            "right": null,
            "justify_content": null,
            "_view_module": "@jupyter-widgets/base",
            "overflow": null,
            "_model_module_version": "1.2.0",
            "_view_count": null,
            "flex_flow": null,
            "width": null,
            "min_width": null,
            "border": null,
            "align_items": null,
            "bottom": null,
            "_model_module": "@jupyter-widgets/base",
            "top": null,
            "grid_column": null,
            "overflow_y": null,
            "overflow_x": null,
            "grid_auto_flow": null,
            "grid_area": null,
            "grid_template_columns": null,
            "flex": null,
            "_model_name": "LayoutModel",
            "justify_items": null,
            "grid_row": null,
            "max_height": null,
            "align_content": null,
            "visibility": null,
            "align_self": null,
            "height": null,
            "min_height": null,
            "padding": null,
            "grid_auto_rows": null,
            "grid_gap": null,
            "max_width": null,
            "order": null,
            "_view_module_version": "1.2.0",
            "grid_template_areas": null,
            "object_position": null,
            "object_fit": null,
            "grid_auto_columns": null,
            "margin": null,
            "display": null,
            "left": null
          }
        },
        "5662dbfaae7c4eb7970eab5183d65f2d": {
          "model_module": "@jupyter-widgets/output",
          "model_name": "OutputModel",
          "state": {
            "_view_name": "OutputView",
            "msg_id": "",
            "_dom_classes": [],
            "_model_name": "OutputModel",
            "outputs": [
              {
                "output_type": "stream",
                "metadata": {
                  "tags": []
                },
                "text": "<class 'pandas.core.frame.DataFrame'>\nRangeIndex: 3000 entries, 0 to 2999\nData columns (total 9 columns):\n #   Column              Non-Null Count  Dtype  \n---  ------              --------------  -----  \n 0   longitude           3000 non-null   float64\n 1   latitude            3000 non-null   float64\n 2   housing_median_age  3000 non-null   float64\n 3   total_rooms         3000 non-null   float64\n 4   total_bedrooms      3000 non-null   float64\n 5   population          3000 non-null   float64\n 6   households          3000 non-null   float64\n 7   median_income       3000 non-null   float64\n 8   median_house_value  3000 non-null   float64\ndtypes: float64(9)\nmemory usage: 211.1 KB\n",
                "stream": "stdout"
              },
              {
                "output_type": "display_data",
                "metadata": {
                  "tags": []
                },
                "text/plain": "None"
              },
              {
                "output_type": "display_data",
                "metadata": {
                  "tags": []
                },
                "text/html": "<div>\n<style scoped>\n    .dataframe tbody tr th:only-of-type {\n        vertical-align: middle;\n    }\n\n    .dataframe tbody tr th {\n        vertical-align: top;\n    }\n\n    .dataframe thead th {\n        text-align: right;\n    }\n</style>\n<table border=\"1\" class=\"dataframe\">\n  <thead>\n    <tr style=\"text-align: right;\">\n      <th></th>\n      <th>longitude</th>\n      <th>latitude</th>\n      <th>housing_median_age</th>\n      <th>total_rooms</th>\n      <th>total_bedrooms</th>\n      <th>population</th>\n      <th>households</th>\n      <th>median_income</th>\n      <th>median_house_value</th>\n    </tr>\n  </thead>\n  <tbody>\n    <tr>\n      <th>count</th>\n      <td>3000.000000</td>\n      <td>3000.00000</td>\n      <td>3000.000000</td>\n      <td>3000.000000</td>\n      <td>3000.000000</td>\n      <td>3000.000000</td>\n      <td>3000.00000</td>\n      <td>3000.000000</td>\n      <td>3000.00000</td>\n    </tr>\n    <tr>\n      <th>mean</th>\n      <td>-119.589200</td>\n      <td>35.63539</td>\n      <td>28.845333</td>\n      <td>2599.578667</td>\n      <td>529.950667</td>\n      <td>1402.798667</td>\n      <td>489.91200</td>\n      <td>3.807272</td>\n      <td>205846.27500</td>\n    </tr>\n    <tr>\n      <th>std</th>\n      <td>1.994936</td>\n      <td>2.12967</td>\n      <td>12.555396</td>\n      <td>2155.593332</td>\n      <td>415.654368</td>\n      <td>1030.543012</td>\n      <td>365.42271</td>\n      <td>1.854512</td>\n      <td>113119.68747</td>\n    </tr>\n    <tr>\n      <th>min</th>\n      <td>-124.180000</td>\n      <td>32.56000</td>\n      <td>1.000000</td>\n      <td>6.000000</td>\n      <td>2.000000</td>\n      <td>5.000000</td>\n      <td>2.00000</td>\n      <td>0.499900</td>\n      <td>22500.00000</td>\n    </tr>\n    <tr>\n      <th>25%</th>\n      <td>-121.810000</td>\n      <td>33.93000</td>\n      <td>18.000000</td>\n      <td>1401.000000</td>\n      <td>291.000000</td>\n      <td>780.000000</td>\n      <td>273.00000</td>\n      <td>2.544000</td>\n      <td>121200.00000</td>\n    </tr>\n    <tr>\n      <th>50%</th>\n      <td>-118.485000</td>\n      <td>34.27000</td>\n      <td>29.000000</td>\n      <td>2106.000000</td>\n      <td>437.000000</td>\n      <td>1155.000000</td>\n      <td>409.50000</td>\n      <td>3.487150</td>\n      <td>177650.00000</td>\n    </tr>\n    <tr>\n      <th>75%</th>\n      <td>-118.020000</td>\n      <td>37.69000</td>\n      <td>37.000000</td>\n      <td>3129.000000</td>\n      <td>636.000000</td>\n      <td>1742.750000</td>\n      <td>597.25000</td>\n      <td>4.656475</td>\n      <td>263975.00000</td>\n    </tr>\n    <tr>\n      <th>max</th>\n      <td>-114.490000</td>\n      <td>41.92000</td>\n      <td>52.000000</td>\n      <td>30450.000000</td>\n      <td>5419.000000</td>\n      <td>11935.000000</td>\n      <td>4930.00000</td>\n      <td>15.000100</td>\n      <td>500001.00000</td>\n    </tr>\n  </tbody>\n</table>\n</div>",
                "text/plain": "         longitude    latitude  ...  median_income  median_house_value\ncount  3000.000000  3000.00000  ...    3000.000000          3000.00000\nmean   -119.589200    35.63539  ...       3.807272        205846.27500\nstd       1.994936     2.12967  ...       1.854512        113119.68747\nmin    -124.180000    32.56000  ...       0.499900         22500.00000\n25%    -121.810000    33.93000  ...       2.544000        121200.00000\n50%    -118.485000    34.27000  ...       3.487150        177650.00000\n75%    -118.020000    37.69000  ...       4.656475        263975.00000\nmax    -114.490000    41.92000  ...      15.000100        500001.00000\n\n[8 rows x 9 columns]"
              }
            ],
            "_view_module": "@jupyter-widgets/output",
            "_model_module_version": "1.0.0",
            "_view_count": null,
            "_view_module_version": "1.0.0",
            "layout": "IPY_MODEL_aeb4156252554cfea3d8933d4e51efdf",
            "_model_module": "@jupyter-widgets/output"
          }
        },
        "aeb4156252554cfea3d8933d4e51efdf": {
          "model_module": "@jupyter-widgets/base",
          "model_name": "LayoutModel",
          "state": {
            "_view_name": "LayoutView",
            "grid_template_rows": null,
            "right": null,
            "justify_content": null,
            "_view_module": "@jupyter-widgets/base",
            "overflow": null,
            "_model_module_version": "1.2.0",
            "_view_count": null,
            "flex_flow": null,
            "width": null,
            "min_width": null,
            "border": null,
            "align_items": null,
            "bottom": null,
            "_model_module": "@jupyter-widgets/base",
            "top": null,
            "grid_column": null,
            "overflow_y": null,
            "overflow_x": null,
            "grid_auto_flow": null,
            "grid_area": null,
            "grid_template_columns": null,
            "flex": null,
            "_model_name": "LayoutModel",
            "justify_items": null,
            "grid_row": null,
            "max_height": null,
            "align_content": null,
            "visibility": null,
            "align_self": null,
            "height": null,
            "min_height": null,
            "padding": null,
            "grid_auto_rows": null,
            "grid_gap": null,
            "max_width": null,
            "order": null,
            "_view_module_version": "1.2.0",
            "grid_template_areas": null,
            "object_position": null,
            "object_fit": null,
            "grid_auto_columns": null,
            "margin": null,
            "display": null,
            "left": null
          }
        }
      }
    }
  },
  "cells": [
    {
      "cell_type": "markdown",
      "metadata": {
        "id": "gci8tWYt4HGS"
      },
      "source": [
        "Ашуров ибрагим , КИ19-21б, 16.02.2021\n",
        "\n",
        "> Блок с отступами\n",
        "\n"
      ]
    },
    {
      "cell_type": "code",
      "metadata": {
        "id": "QVYLwIgfjv6u"
      },
      "source": [
        "import pandas as pd\n",
        "from IPython.display import clear_output\n",
        "import ipywidgets as widgets\n",
        "from IPython.display import display\n",
        "import time\n",
        "import matplotlib.pyplot as plt\n",
        "import numpy as np"
      ],
      "execution_count": null,
      "outputs": []
    },
    {
      "cell_type": "code",
      "metadata": {
        "id": "tpzMx7ipH_Di"
      },
      "source": [
        "#@title Выбор данных\n",
        "import pandas as pd\n",
        "change1=True #@param {type:\"boolean\"}\n",
        "if change1==True:\n",
        "  %load_ext google.colab.data_table\n",
        "else:\n",
        "  %unload_ext google.colab.data_table\n",
        "table=\"train\" #@param [\"test\",\"train\"]\n",
        "if table==\"test\":\n",
        "  data=pd.read_csv(\"/content/sample_data/california_housing_test.csv\")\n",
        "  data\n",
        "else:\n",
        "  data=pd.read_csv(\"/content/sample_data/california_housing_train.csv\")\n",
        "data"
      ],
      "execution_count": null,
      "outputs": []
    },
    {
      "cell_type": "code",
      "metadata": {
        "colab": {
          "base_uri": "https://localhost:8080/",
          "height": 602,
          "referenced_widgets": [
            "8d2a4f68fe47401eb4d58c155573c3ad",
            "75d0376393e440d0a6f416d313b4e709",
            "f88f6e2b8a90423cac372ea1c5d297ca",
            "5662dbfaae7c4eb7970eab5183d65f2d",
            "aeb4156252554cfea3d8933d4e51efdf"
          ]
        },
        "id": "9sc8rZDYjkww",
        "outputId": "1bcb2102-dd77-4e54-d502-85a052ebcfb8"
      },
      "source": [
        "data = pd.read_csv('/content/sample_data/california_housing_test.csv')\n",
        "button = widgets.Button(description=\"Click Me!\")\n",
        "output = widgets.Output()\n",
        "\n",
        "def on_my_button_click(b):\n",
        "    with output:\n",
        "      output.clear_output()\n",
        "      display(data.info())\n",
        "      display(data.describe())\n",
        "button.on_click(on_my_button_click)\n",
        "display(button, output)"
      ],
      "execution_count": null,
      "outputs": [
        {
          "output_type": "display_data",
          "data": {
            "application/vnd.jupyter.widget-view+json": {
              "model_id": "8d2a4f68fe47401eb4d58c155573c3ad",
              "version_minor": 0,
              "version_major": 2
            },
            "text/plain": [
              "Button(description='Click Me!', style=ButtonStyle())"
            ]
          },
          "metadata": {
            "tags": []
          }
        },
        {
          "output_type": "display_data",
          "data": {
            "application/vnd.jupyter.widget-view+json": {
              "model_id": "5662dbfaae7c4eb7970eab5183d65f2d",
              "version_minor": 0,
              "version_major": 2
            },
            "text/plain": [
              "Output()"
            ]
          },
          "metadata": {
            "tags": []
          }
        }
      ]
    }
  ]
}